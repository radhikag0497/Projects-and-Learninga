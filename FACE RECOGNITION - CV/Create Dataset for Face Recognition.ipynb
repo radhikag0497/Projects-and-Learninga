{
 "cells": [
  {
   "cell_type": "code",
   "execution_count": 2,
   "metadata": {},
   "outputs": [],
   "source": [
    "import cv2, os\n",
    "import urllib.request\n",
    "import imutils\n",
    "import numpy as np"
   ]
  },
  {
   "cell_type": "code",
   "execution_count": 3,
   "metadata": {},
   "outputs": [],
   "source": [
    "haar_file = 'haarcascade_frontalface_default.xml'\n",
    "datasets = 'datasets'\n",
    "sub_data = 'Bua'"
   ]
  },
  {
   "cell_type": "code",
   "execution_count": 6,
   "metadata": {},
   "outputs": [
    {
     "name": "stdout",
     "output_type": "stream",
     "text": [
      "1\n",
      "2\n",
      "3\n",
      "4\n",
      "5\n",
      "6\n",
      "7\n",
      "8\n",
      "9\n",
      "10\n",
      "11\n",
      "12\n",
      "13\n",
      "14\n",
      "15\n",
      "16\n",
      "17\n",
      "18\n",
      "19\n",
      "20\n"
     ]
    }
   ],
   "source": [
    "path = os.path.join(datasets, sub_data)\n",
    "if not os.path.isdir(path):\n",
    "    os.mkdir(path)\n",
    "(width, height) = (130, 100)\n",
    "\n",
    "face_cascade = cv2.CascadeClassifier(haar_file)\n",
    "\n",
    "# * uncomment for using Webcam\n",
    "webcam = cv2.VideoCapture(0)\n",
    "\n",
    "url = 'http://192.168.0.106:8080/shot.jpg'\n",
    "\n",
    "count = 1\n",
    "while count < 21:\n",
    "    print(count)\n",
    "    \n",
    "    # uncomment for using Remote Phone Camera\n",
    "#     imgPath = urllib.request.urlopen(url)\n",
    "#     imgNp = np.array(bytearray(imgPath.read()), dtype = np.uint8)\n",
    "    \n",
    "#     # to take data and convert data into an image(imdecode)\n",
    "#     img = cv2.imdecode(imgNp, -1)\n",
    "#     img = imutils.resize(img, width = 450)\n",
    "    \n",
    "    # * uncomment for using Webcam\n",
    "    (_, img) = webcam.read()\n",
    "    \n",
    "    gray = cv2.cvtColor(img, cv2.COLOR_BGR2GRAY)\n",
    "    faces = face_cascade.detectMultiScale(gray, 1.3, 4)\n",
    "    for(x,y,w,h) in faces:\n",
    "        cv2.rectangle(img, (x,y), (x+w, y+h), (255, 0, 0), 3)\n",
    "        faceOnly = gray[y : y+h ,x: x+w]\n",
    "        resizeImg = cv2.resize(faceOnly, (width, height))\n",
    "        cv2.imwrite('%s/%s.jpg' %(path, count), faceOnly)\n",
    "    \n",
    "    count += 1\n",
    "    cv2.imshow('CameraFeed', img)\n",
    "#     cv2.imshow('Face Detection ', img)\n",
    "    key = cv2.waitKey(10)\n",
    "    if key == 27:\n",
    "        break\n",
    "        \n",
    "# * uncomment for using Webcam        \n",
    "webcam.release()\n",
    "\n",
    "cv2.destroyAllWindows()"
   ]
  },
  {
   "cell_type": "code",
   "execution_count": null,
   "metadata": {},
   "outputs": [],
   "source": []
  }
 ],
 "metadata": {
  "kernelspec": {
   "display_name": "Python 3",
   "language": "python",
   "name": "python3"
  },
  "language_info": {
   "codemirror_mode": {
    "name": "ipython",
    "version": 3
   },
   "file_extension": ".py",
   "mimetype": "text/x-python",
   "name": "python",
   "nbconvert_exporter": "python",
   "pygments_lexer": "ipython3",
   "version": "3.8.6"
  }
 },
 "nbformat": 4,
 "nbformat_minor": 4
}
